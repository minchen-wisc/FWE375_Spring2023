{
 "cells": [
  {
   "cell_type": "code",
   "execution_count": 3,
   "id": "5b449f45",
   "metadata": {},
   "outputs": [
    {
     "name": "stdout",
     "output_type": "stream",
     "text": [
      "[0, 1, 1, 2, 3, 5, 8, 13, 21, 34, 55, 89, 144, 233, 377, 610, 987, 1597, 2584, 4181, 6765, 10946, 17711, 28657, 46368, 75025, 121393, 196418, 317811, 514229, 832040, 1346269, 2178309, 3524578, 5702887, 9227465, 14930352, 24157817, 39088169, 63245986, 102334155, 165580141, 267914296, 433494437, 701408733, 1134903170, 1836311903, 2971215073, 4807526976, 7778742049, 12586269025, 20365011074, 32951280099, 53316291173, 86267571272, 139583862445, 225851433717, 365435296162, 591286729879, 956722026041, 1548008755920, 2504730781961, 4052739537881, 6557470319842, 10610209857723, 17167680177565, 27777890035288, 44945570212853, 72723460248141, 117669030460994, 190392490709135, 308061521170129, 498454011879264, 806515533049393, 1304969544928657, 2111485077978050, 3416454622906707, 5527939700884757, 8944394323791464, 14472334024676221, 23416728348467685, 37889062373143906, 61305790721611591, 99194853094755497, 160500643816367088, 259695496911122585, 420196140727489673, 679891637638612258, 1100087778366101931, 1779979416004714189, 2880067194370816120, 4660046610375530309, 7540113804746346429, 12200160415121876738, 19740274219868223167, 31940434634990099905, 51680708854858323072, 83621143489848422977, 135301852344706746049, 218922995834555169026]\n"
     ]
    }
   ],
   "source": [
    "N = 100\n",
    "L = [0, 1]\n",
    "for i in range(1, N-1):\n",
    "    L = L + [L[-2] + L[-1]]\n",
    "print(L)"
   ]
  },
  {
   "cell_type": "code",
   "execution_count": 4,
   "id": "4bbb0c22",
   "metadata": {},
   "outputs": [
    {
     "name": "stdout",
     "output_type": "stream",
     "text": [
      "[0, 1, 1, 2, 3, 5, 8, 13, 21, 34, 55, 89, 144, 233, 377, 610, 987, 1597, 2584, 4181, 6765, 10946, 17711, 28657, 46368, 75025, 121393, 196418, 317811, 514229, 832040, 1346269, 2178309, 3524578, 5702887, 9227465, 14930352, 24157817, 39088169, 63245986, 102334155, 165580141, 267914296, 433494437, 701408733, 1134903170, 1836311903, 2971215073, 4807526976, 7778742049, 12586269025, 20365011074, 32951280099, 53316291173, 86267571272, 139583862445, 225851433717, 365435296162, 591286729879, 956722026041, 1548008755920, 2504730781961, 4052739537881, 6557470319842, 10610209857723, 17167680177565, 27777890035288, 44945570212853, 72723460248141, 117669030460994, 190392490709135, 308061521170129, 498454011879264, 806515533049393, 1304969544928657, 2111485077978050, 3416454622906707, 5527939700884757, 8944394323791464, 14472334024676221, 23416728348467685, 37889062373143906, 61305790721611591, 99194853094755497, 160500643816367088, 259695496911122585, 420196140727489673, 679891637638612258, 1100087778366101931, 1779979416004714189, 2880067194370816120, 4660046610375530309, 7540113804746346429, 12200160415121876738, 19740274219868223167, 31940434634990099905, 51680708854858323072, 83621143489848422977, 135301852344706746049, 218922995834555169026]\n",
      "[2, 3, 5, 8, 13, 21, 34, 55, 89, 144, 233, 377, 610, 987, 1597, 2584, 4181, 6765, 10946, 17711, 28657, 46368, 75025, 121393, 196418, 317811, 514229, 832040, 1346269, 2178309, 3524578, 5702887, 9227465, 14930352, 24157817, 39088169, 63245986, 102334155, 165580141, 267914296, 433494437, 701408733, 1134903170, 1836311903, 2971215073, 4807526976, 7778742049, 12586269025, 20365011074, 32951280099]\n"
     ]
    }
   ],
   "source": [
    "N = 100\n",
    "L1 = [0, 1]\n",
    "for i in range(1, N-1):\n",
    "    L1 = L1 + [L1[-2] + L1[-1]]\n",
    "    \n",
    "N = 50\n",
    "L2 = [2, 3]\n",
    "for i in range(1, N-1):\n",
    "    L2 = L2 + [L2[-2] + L2[-1]]\n",
    "    \n",
    "print(L1)\n",
    "print(L2)"
   ]
  },
  {
   "cell_type": "code",
   "execution_count": 6,
   "id": "82d763e7",
   "metadata": {},
   "outputs": [
    {
     "name": "stdout",
     "output_type": "stream",
     "text": [
      "[1, 2, 3, 5, 8, 13, 21, 34, 55, 89, 144, 233, 377, 610, 987, 1597, 2584, 4181, 6765, 10946, 17711, 28657, 46368, 75025, 121393, 196418, 317811, 514229, 832040, 1346269, 2178309, 3524578, 5702887, 9227465, 14930352, 24157817, 39088169, 63245986, 102334155, 165580141, 267914296, 433494437, 701408733, 1134903170, 1836311903, 2971215073, 4807526976, 7778742049, 12586269025, 20365011074, 32951280099, 53316291173, 86267571272, 139583862445, 225851433717, 365435296162, 591286729879, 956722026041, 1548008755920, 2504730781961, 4052739537881, 6557470319842, 10610209857723, 17167680177565, 27777890035288, 44945570212853, 72723460248141, 117669030460994, 190392490709135, 308061521170129, 498454011879264, 806515533049393, 1304969544928657, 2111485077978050, 3416454622906707, 5527939700884757, 8944394323791464, 14472334024676221, 23416728348467685, 37889062373143906, 61305790721611591, 99194853094755497, 160500643816367088, 259695496911122585, 420196140727489673, 679891637638612258, 1100087778366101931, 1779979416004714189, 2880067194370816120, 4660046610375530309, 7540113804746346429, 12200160415121876738, 19740274219868223167, 31940434634990099905, 51680708854858323072, 83621143489848422977, 135301852344706746049, 218922995834555169026, 354224848179261915075, 573147844013817084101]\n"
     ]
    }
   ],
   "source": [
    "# define a function that generate a fibonacci sequence\n",
    "def fibonacci_func(firstelem, secondelem, N):\n",
    "    L = [firstelem, secondelem]\n",
    "    for i in range(1, N-1):\n",
    "        L = L + [L[-2] + L[-1]]\n",
    "    return L\n",
    "\n",
    "L = fibonacci_func(1, 2, 100)\n",
    "print(L)"
   ]
  },
  {
   "cell_type": "code",
   "execution_count": 12,
   "id": "9e9fd1fa",
   "metadata": {},
   "outputs": [
    {
     "data": {
      "text/plain": [
       "[0, 1, 1, 2, 3, 5, 8, 13, 21, 34]"
      ]
     },
     "execution_count": 12,
     "metadata": {},
     "output_type": "execute_result"
    }
   ],
   "source": [
    "# a recursive solution to create a fibonacci sequence\n",
    "\n",
    "def fibonacci_recursive(firstelem, secondelem, length):\n",
    "    if length < 0:\n",
    "        print(\"hey, please input a number larger than 0\")\n",
    "    elif length == 0:\n",
    "        return []\n",
    "    elif length == 1:\n",
    "        return [firstelem]\n",
    "    elif length == 2:\n",
    "        return [firstelem, secondelem]\n",
    "    else:\n",
    "        L = [firstelem]\n",
    "        nextelem = add(firstelem, secondelem)\n",
    "        return L+fibonacci_recursive(secondelem, nextelem, length-1)\n",
    "\n",
    "def add(a, b):\n",
    "    return a+b\n",
    "\n",
    "fibonacci_recursive(0, 1, 10)"
   ]
  },
  {
   "cell_type": "code",
   "execution_count": 13,
   "id": "236f059f",
   "metadata": {},
   "outputs": [
    {
     "name": "stdout",
     "output_type": "stream",
     "text": [
      "3.3333333333333335\n"
     ]
    }
   ],
   "source": [
    "def F2C(T):\n",
    "    C = (T-32)*5/9\n",
    "    return C\n",
    "\n",
    "print(F2C(38))"
   ]
  },
  {
   "cell_type": "code",
   "execution_count": 20,
   "id": "97515a5d",
   "metadata": {},
   "outputs": [
    {
     "name": "stdout",
     "output_type": "stream",
     "text": [
      "[3.3333333333333335, 276.4833333333333]\n"
     ]
    },
    {
     "data": {
      "text/plain": [
       "list"
      ]
     },
     "execution_count": 20,
     "metadata": {},
     "output_type": "execute_result"
    }
   ],
   "source": [
    "def converttemp(F):\n",
    "    C = (F-32)* 5/9\n",
    "    K = C + 273.15\n",
    "    return [C, K]\n",
    "\n",
    "a = converttemp(38)\n",
    "print(a)\n",
    "type(a)"
   ]
  },
  {
   "cell_type": "code",
   "execution_count": 23,
   "id": "a2822bc4",
   "metadata": {},
   "outputs": [
    {
     "ename": "TypeError",
     "evalue": "add() takes 2 positional arguments but 3 were given",
     "output_type": "error",
     "traceback": [
      "\u001b[0;31m---------------------------------------------------------------------------\u001b[0m",
      "\u001b[0;31mTypeError\u001b[0m                                 Traceback (most recent call last)",
      "\u001b[0;32m/var/folders/cq/d8h3wnqx5yd2tjl34nkmynr80000gn/T/ipykernel_29403/2326731670.py\u001b[0m in \u001b[0;36m<module>\u001b[0;34m\u001b[0m\n\u001b[1;32m      2\u001b[0m     \u001b[0;32mreturn\u001b[0m \u001b[0ma\u001b[0m\u001b[0;34m+\u001b[0m\u001b[0mb\u001b[0m\u001b[0;34m\u001b[0m\u001b[0;34m\u001b[0m\u001b[0m\n\u001b[1;32m      3\u001b[0m \u001b[0;34m\u001b[0m\u001b[0m\n\u001b[0;32m----> 4\u001b[0;31m \u001b[0madd\u001b[0m\u001b[0;34m(\u001b[0m\u001b[0;36m1\u001b[0m\u001b[0;34m,\u001b[0m \u001b[0;36m2\u001b[0m\u001b[0;34m,\u001b[0m \u001b[0;36m3\u001b[0m\u001b[0;34m)\u001b[0m\u001b[0;34m\u001b[0m\u001b[0;34m\u001b[0m\u001b[0m\n\u001b[0m",
      "\u001b[0;31mTypeError\u001b[0m: add() takes 2 positional arguments but 3 were given"
     ]
    }
   ],
   "source": [
    "def add(a,b):\n",
    "    return a+b\n",
    "\n",
    "add(1, 2, 3)"
   ]
  },
  {
   "cell_type": "code",
   "execution_count": 26,
   "id": "548a7258",
   "metadata": {},
   "outputs": [
    {
     "name": "stdout",
     "output_type": "stream",
     "text": [
      "(1,)\n",
      "1\n",
      "(1, 2)\n",
      "3\n",
      "(1, 3, 2)\n",
      "6\n"
     ]
    }
   ],
   "source": [
    "# the power of *args\n",
    "def add(*args):\n",
    "    print(args)\n",
    "    result = 0\n",
    "    for i in args:\n",
    "        result = result + i\n",
    "    return result\n",
    "\n",
    "print(add(1))\n",
    "print(add(1, 2))\n",
    "print(add(1, 3, 2))"
   ]
  },
  {
   "cell_type": "code",
   "execution_count": 34,
   "id": "627c8707",
   "metadata": {},
   "outputs": [
    {
     "data": {
      "image/png": "[encoded data removed]",
      "text/plain": [
       "<Figure size 432x288 with 1 Axes>"
      ]
     },
     "metadata": {
      "needs_background": "light"
     },
     "output_type": "display_data"
    }
   ],
   "source": [
    "import numpy as np\n",
    "import scipy as sp\n",
    "import matplotlib.pyplot as plt\n",
    "from scipy import stats\n",
    "\n",
    "def myplotxy(x, y, labelon = True, regline = True, stat = True, xlabel=None, ylabel=None):\n",
    "    plt.plot(x, y, 'o')\n",
    "    \n",
    "    if regline is True:\n",
    "        slope, intercept, r, p, stderr = sp.stats.linregress(x, y)\n",
    "        plt.plot(x, slope*x+intercept)\n",
    "    \n",
    "    if labelon is True:\n",
    "        plt.xlabel(xlabel)\n",
    "        plt.ylabel(ylabel)\n",
    "        \n",
    "    if stat is True:\n",
    "        rmse = np.sqrt(((y-x)**2).mean())\n",
    "        slope, intercept, r, p, stderr = sp.stats.linregress(x, y)\n",
    "        r2 = r**2\n",
    "        slopestr =\"{:.2f}\".format(slope)\n",
    "         \n",
    "        interceptstr =\"{:.2f}\".format(intercept)\n",
    "        interceptstr2 =\"{:.2f}\".format(-intercept)\n",
    "        r2str =\"{:.2f}\".format(r2)\n",
    "        \n",
    "        if intercept > 0:\n",
    "            plt.text(0.1, 1.6, r'$y=%s*x+%s$'%(slopestr, interceptstr), fontsize = 10)\n",
    "        else:\n",
    "            plt.text(0.1, 1.6, r'$y=%s*x-%s$'%(slopestr, interceptstr2), fontsize = 10)\n",
    "        \n",
    "\n",
    "import random\n",
    "\n",
    "random.seed()\n",
    "x = np.random.random(100)\n",
    "y = x*2 - np.random.random(100)*0.1\n",
    "myplotxy(x,y, True, True, True, 'X', \"y\")"
   ]
  }
 ],
 "metadata": {
  "kernelspec": {
   "display_name": "Python 3 (ipykernel)",
   "language": "python",
   "name": "python3"
  },
  "language_info": {
   "codemirror_mode": {
    "name": "ipython",
    "version": 3
   },
   "file_extension": ".py",
   "mimetype": "text/x-python",
   "name": "python",
   "nbconvert_exporter": "python",
   "pygments_lexer": "ipython3",
   "version": "3.9.7"
  }
 },
 "nbformat": 4,
 "nbformat_minor": 5
}
