{
 "cells": [
  {
   "cell_type": "markdown",
   "id": "f75c6572",
   "metadata": {},
   "source": [
    "# Lec 5 Functions in Python\n",
    "\n",
    "Let's start from an example. In the last class, we learned how to produce a Fibonacci sequence, starting with 0 and 1."
   ]
  },
  {
   "cell_type": "code",
   "execution_count": null,
   "id": "abe9db80",
   "metadata": {},
   "outputs": [],
   "source": [
    "# create a Fibonacci sequence\n",
    "N = 100\n",
    "L = [0, 1]\n",
    "for i in range(1, N+1):\n",
    "    L = L + [L[-2] + L[-1]] \n",
    "print(L)"
   ]
  },
  {
   "cell_type": "markdown",
   "id": "fd78b7fb",
   "metadata": {},
   "source": [
    "Now you were asked to produce two Fibonacci sequences, one is started with 0 and 1, and has 100 elements. The other one starts with 2 and 3, and has 50 elements."
   ]
  },
  {
   "cell_type": "code",
   "execution_count": 1,
   "id": "bbfd2d86",
   "metadata": {},
   "outputs": [
    {
     "name": "stdout",
     "output_type": "stream",
     "text": [
      "[0, 1, 1, 2, 3, 5, 8, 13, 21, 34, 55, 89, 144, 233, 377, 610, 987, 1597, 2584, 4181, 6765, 10946, 17711, 28657, 46368, 75025, 121393, 196418, 317811, 514229, 832040, 1346269, 2178309, 3524578, 5702887, 9227465, 14930352, 24157817, 39088169, 63245986, 102334155, 165580141, 267914296, 433494437, 701408733, 1134903170, 1836311903, 2971215073, 4807526976, 7778742049, 12586269025, 20365011074, 32951280099, 53316291173, 86267571272, 139583862445, 225851433717, 365435296162, 591286729879, 956722026041, 1548008755920, 2504730781961, 4052739537881, 6557470319842, 10610209857723, 17167680177565, 27777890035288, 44945570212853, 72723460248141, 117669030460994, 190392490709135, 308061521170129, 498454011879264, 806515533049393, 1304969544928657, 2111485077978050, 3416454622906707, 5527939700884757, 8944394323791464, 14472334024676221, 23416728348467685, 37889062373143906, 61305790721611591, 99194853094755497, 160500643816367088, 259695496911122585, 420196140727489673, 679891637638612258, 1100087778366101931, 1779979416004714189, 2880067194370816120, 4660046610375530309, 7540113804746346429, 12200160415121876738, 19740274219868223167, 31940434634990099905, 51680708854858323072, 83621143489848422977, 135301852344706746049, 218922995834555169026, 354224848179261915075, 573147844013817084101]\n",
      "[2, 3, 5, 8, 13, 21, 34, 55, 89, 144, 233, 377, 610, 987, 1597, 2584, 4181, 6765, 10946, 17711, 28657, 46368, 75025, 121393, 196418, 317811, 514229, 832040, 1346269, 2178309, 3524578, 5702887, 9227465, 14930352, 24157817, 39088169, 63245986, 102334155, 165580141, 267914296, 433494437, 701408733, 1134903170, 1836311903, 2971215073, 4807526976, 7778742049, 12586269025, 20365011074, 32951280099, 53316291173, 86267571272]\n"
     ]
    }
   ],
   "source": [
    "# create a Fibonacci sequence started with 0 and 1, 100 elements\n",
    "N = 100\n",
    "L = [0, 1]\n",
    "for i in range(1, N+1):\n",
    "    L = L + [L[-2] + L[-1]] \n",
    "print(L)\n",
    "\n",
    "# create a Fibonacci sequence started with 2 and 3, 50 elements\n",
    "N = 50\n",
    "L1 = [2, 3]\n",
    "for i in range(1, N+1):\n",
    "    L1 = L1 + [L1[-2] + L1[-1]] \n",
    "print(L1)"
   ]
  },
  {
   "cell_type": "markdown",
   "id": "537f3e0d",
   "metadata": {},
   "source": [
    "Now you have a crazy teacher, he asks you to create 100 such sequences! Shall we copy and paste the code for 100 times? Of course not!\n",
    "\n",
    "\"Function\" can help you. It is a feature in almost every programming language, including python.\n",
    "\n",
    "\"A function is a reusable block of code that performs a specific task. Functions receive inputs to which code is applied and return outputs (or results) of the code\"."
   ]
  },
  {
   "cell_type": "code",
   "execution_count": 3,
   "id": "af0e4b3a",
   "metadata": {},
   "outputs": [
    {
     "name": "stdout",
     "output_type": "stream",
     "text": [
      "[2, 3, 5, 8, 13, 21, 34, 55, 89, 144, 233, 377, 610, 987, 1597, 2584, 4181, 6765, 10946, 17711, 28657, 46368, 75025, 121393, 196418, 317811, 514229, 832040, 1346269, 2178309, 3524578, 5702887, 9227465, 14930352, 24157817, 39088169, 63245986, 102334155, 165580141, 267914296, 433494437, 701408733, 1134903170, 1836311903, 2971215073, 4807526976, 7778742049, 12586269025, 20365011074, 32951280099, 53316291173, 86267571272]\n"
     ]
    }
   ],
   "source": [
    "# define a function that generate a fibonacci sequence\n",
    "def fibonacci(N, L):\n",
    "    for i in range(1, N+1):\n",
    "        L = L + [L[-2] + L[-1]]\n",
    "    return L\n",
    "\n",
    "N = 50\n",
    "L = [2, 3]\n",
    "L = fibonacci(N, L)\n",
    "print(L)"
   ]
  },
  {
   "cell_type": "code",
   "execution_count": 10,
   "id": "3b404830",
   "metadata": {},
   "outputs": [
    {
     "name": "stdout",
     "output_type": "stream",
     "text": [
      "0.0\n",
      "31.666666666666668\n",
      "32\n"
     ]
    }
   ],
   "source": [
    "# function that converts the unit of today's air temperature: oF <-> oC\n",
    "def F2C(T):\n",
    "    return (T - 32) * 5/9\n",
    "\n",
    "print(F2C(32))\n",
    "print(F2C(89))\n",
    "print(round(F2C(89)))"
   ]
  },
  {
   "cell_type": "code",
   "execution_count": 5,
   "id": "6ddd9834",
   "metadata": {},
   "outputs": [
    {
     "name": "stdout",
     "output_type": "stream",
     "text": [
      "[-4, -2, 0, 0, 0.2, 3, 4, 5, 6, 32, 232]\n"
     ]
    }
   ],
   "source": [
    "# define a function that sorts a list in the asending order\n",
    "def mysort(L):\n",
    "    L1 = []\n",
    "    while len(L) > 1:\n",
    "        mini = 99999999999\n",
    "        for i in L:\n",
    "            if i < mini:\n",
    "                mini = i\n",
    "        L.remove(mini)\n",
    "        L1.append(mini)\n",
    "    return L1\n",
    "\n",
    "L = [232,3,4,-4,5,6,32,0.2,-2,356,0,0]\n",
    "print(mysort(L))"
   ]
  },
  {
   "cell_type": "markdown",
   "id": "323d6f6f",
   "metadata": {},
   "source": [
    "Can a function return multiple values?\n",
    "Yes!"
   ]
  },
  {
   "cell_type": "code",
   "execution_count": 13,
   "id": "607fcdcd",
   "metadata": {},
   "outputs": [
    {
     "name": "stdout",
     "output_type": "stream",
     "text": [
      "1.0 273.15 31.666666666666668 304.81666666666666\n"
     ]
    }
   ],
   "source": [
    "# function that converts the unit of today's air temperature: oF <-> oC, K\n",
    "# return two results using tuple (comma separated sequence, immutable)\n",
    "def convertF(F):\n",
    "    C = (F - 32) * 5/9\n",
    "    K = C + 273.15\n",
    "    return C, K\n",
    "\n",
    "a, b = convertF(32)\n",
    "c, d = convertF(89)\n",
    "\n",
    "print(a,b,c,d)"
   ]
  },
  {
   "cell_type": "code",
   "execution_count": 15,
   "id": "8bd15969",
   "metadata": {},
   "outputs": [
    {
     "name": "stdout",
     "output_type": "stream",
     "text": [
      "[0.0, 273.15, '32 F'] [31.666666666666668, 304.81666666666666, '89 F']\n"
     ]
    }
   ],
   "source": [
    "# function that converts the unit of today's air temperature: oF <-> oC, K\n",
    "# return two results using list (mutable)\n",
    "def convertF(F):\n",
    "    C = (F - 32) * 5/9\n",
    "    K = C + 273.15\n",
    "    return [C, K]\n",
    "\n",
    "a = convertF(32) + [\"32 F\"]\n",
    "b = convertF(89) + [\"89 F\"]\n",
    "\n",
    "print(a, b)"
   ]
  },
  {
   "cell_type": "code",
   "execution_count": 20,
   "id": "7c5a513f",
   "metadata": {},
   "outputs": [
    {
     "name": "stdout",
     "output_type": "stream",
     "text": [
      "0 -17.77777777777778\n",
      "2 -16.666666666666668\n",
      "4 -15.555555555555555\n",
      "6 -14.444444444444445\n",
      "8 -13.333333333333334\n",
      "10 -12.222222222222221\n",
      "12 -11.11111111111111\n",
      "14 -10.0\n",
      "16 -8.88888888888889\n",
      "18 -7.777777777777778\n",
      "20 -6.666666666666667\n",
      "22 -5.555555555555555\n",
      "24 -4.444444444444445\n",
      "26 -3.3333333333333335\n",
      "28 -2.2222222222222223\n",
      "30 -1.1111111111111112\n",
      "32 0.0\n",
      "34 1.1111111111111112\n",
      "36 2.2222222222222223\n",
      "38 3.3333333333333335\n",
      "40 4.444444444444445\n",
      "42 5.555555555555555\n",
      "44 6.666666666666667\n",
      "46 7.777777777777778\n",
      "48 8.88888888888889\n",
      "50 10.0\n",
      "52 11.11111111111111\n",
      "54 12.222222222222221\n",
      "56 13.333333333333334\n",
      "58 14.444444444444445\n",
      "60 15.555555555555555\n",
      "62 16.666666666666668\n",
      "64 17.77777777777778\n",
      "66 18.88888888888889\n",
      "68 20.0\n",
      "70 21.11111111111111\n",
      "72 22.22222222222222\n",
      "74 23.333333333333332\n",
      "76 24.444444444444443\n",
      "78 25.555555555555557\n",
      "80 26.666666666666668\n",
      "82 27.77777777777778\n",
      "84 28.88888888888889\n",
      "86 30.0\n",
      "88 31.11111111111111\n",
      "90 32.22222222222222\n",
      "92 33.333333333333336\n",
      "94 34.44444444444444\n",
      "96 35.55555555555556\n",
      "98 36.666666666666664\n"
     ]
    },
    {
     "ename": "TypeError",
     "evalue": "unsupported operand type(s) for -: 'list' and 'int'",
     "output_type": "error",
     "traceback": [
      "\u001b[0;31m---------------------------------------------------------------------------\u001b[0m",
      "\u001b[0;31mTypeError\u001b[0m                                 Traceback (most recent call last)",
      "\u001b[0;32m/var/folders/5z/gl6s_gjx0z348sf6tz0gx2hw0000gn/T/ipykernel_12036/2129247817.py\u001b[0m in \u001b[0;36m<module>\u001b[0;34m\u001b[0m\n\u001b[1;32m      9\u001b[0m \u001b[0;34m\u001b[0m\u001b[0m\n\u001b[1;32m     10\u001b[0m \u001b[0mF\u001b[0m \u001b[0;34m=\u001b[0m \u001b[0;34m[\u001b[0m\u001b[0mrange\u001b[0m\u001b[0;34m(\u001b[0m\u001b[0;36m0\u001b[0m\u001b[0;34m,\u001b[0m \u001b[0;36m100\u001b[0m\u001b[0;34m,\u001b[0m \u001b[0;36m2\u001b[0m\u001b[0;34m)\u001b[0m\u001b[0;34m]\u001b[0m\u001b[0;34m\u001b[0m\u001b[0;34m\u001b[0m\u001b[0m\n\u001b[0;32m---> 11\u001b[0;31m \u001b[0mF2C\u001b[0m\u001b[0;34m(\u001b[0m\u001b[0mF\u001b[0m\u001b[0;34m)\u001b[0m\u001b[0;34m\u001b[0m\u001b[0;34m\u001b[0m\u001b[0m\n\u001b[0m",
      "\u001b[0;32m/var/folders/5z/gl6s_gjx0z348sf6tz0gx2hw0000gn/T/ipykernel_12036/2129247817.py\u001b[0m in \u001b[0;36mF2C\u001b[0;34m(F)\u001b[0m\n\u001b[1;32m      1\u001b[0m \u001b[0;31m# function that converts the unit of today's air temperature: oF <-> oC, K\u001b[0m\u001b[0;34m\u001b[0m\u001b[0;34m\u001b[0m\u001b[0m\n\u001b[1;32m      2\u001b[0m \u001b[0;32mdef\u001b[0m \u001b[0mF2C\u001b[0m\u001b[0;34m(\u001b[0m\u001b[0mF\u001b[0m\u001b[0;34m)\u001b[0m\u001b[0;34m:\u001b[0m\u001b[0;34m\u001b[0m\u001b[0;34m\u001b[0m\u001b[0m\n\u001b[0;32m----> 3\u001b[0;31m     \u001b[0mC\u001b[0m \u001b[0;34m=\u001b[0m \u001b[0;34m(\u001b[0m\u001b[0mF\u001b[0m \u001b[0;34m-\u001b[0m \u001b[0;36m32\u001b[0m\u001b[0;34m)\u001b[0m \u001b[0;34m*\u001b[0m \u001b[0;36m5\u001b[0m\u001b[0;34m/\u001b[0m\u001b[0;36m9\u001b[0m\u001b[0;34m\u001b[0m\u001b[0;34m\u001b[0m\u001b[0m\n\u001b[0m\u001b[1;32m      4\u001b[0m     \u001b[0;32mreturn\u001b[0m \u001b[0mC\u001b[0m\u001b[0;34m\u001b[0m\u001b[0;34m\u001b[0m\u001b[0m\n\u001b[1;32m      5\u001b[0m \u001b[0;34m\u001b[0m\u001b[0m\n",
      "\u001b[0;31mTypeError\u001b[0m: unsupported operand type(s) for -: 'list' and 'int'"
     ]
    }
   ],
   "source": [
    "# function that converts the unit of today's air temperature: oF <-> oC, K\n",
    "def F2C(F):\n",
    "    C = (F - 32) * 5/9\n",
    "    return C\n",
    "\n",
    "for i in range(0, 100, 2):\n",
    "    C = F2C(i)\n",
    "    print(i, C)\n",
    "    \n",
    "F = [range(0, 100, 2)]\n",
    "F2C(F)"
   ]
  },
  {
   "cell_type": "code",
   "execution_count": null,
   "id": "ad063ec0",
   "metadata": {},
   "outputs": [],
   "source": [
    "def addition(a, b):\n",
    "   return a + b\n",
    "\n",
    "print(addition(4, 5))\n",
    "print(addition(2, 4, 5))"
   ]
  },
  {
   "cell_type": "code",
   "execution_count": 21,
   "id": "094edb34",
   "metadata": {},
   "outputs": [
    {
     "name": "stdout",
     "output_type": "stream",
     "text": [
      "9\n",
      "11\n",
      "110\n"
     ]
    }
   ],
   "source": [
    "# The power of *args\n",
    "def addition(*args):\n",
    "   result = 0\n",
    "   for i in args:\n",
    "      result = result + i\n",
    "   return result\n",
    "\n",
    "print(addition(4, 5))\n",
    "print(addition(2, 4, 5))\n",
    "print(addition(2, 4, 5, 3, 43, 53))"
   ]
  },
  {
   "cell_type": "code",
   "execution_count": 63,
   "id": "ae317a81",
   "metadata": {},
   "outputs": [
    {
     "data": {
      "image/png": "[encoded data removed]",
      "text/plain": [
       "<Figure size 432x288 with 1 Axes>"
      ]
     },
     "metadata": {
      "needs_background": "light"
     },
     "output_type": "display_data"
    }
   ],
   "source": [
    "def myplotxy(x, y, labelon = True, regline = True, stats = True, xlabel=None, ylabel=None):\n",
    "    plt.plot(x, y, 'o')\n",
    "    \n",
    "    if regline is True:\n",
    "        #obtain m (slope) and b(intercept) of linear regression line\n",
    "        slope, intercept, r_value, p_value, std_err = sp.stats.linregress(x, y)\n",
    "        #add linear regression line to scatterplot \n",
    "        plt.plot(x, slope*x+intercept)\n",
    "    \n",
    "    if labelon is True:\n",
    "        plt.xlabel(xlabel)\n",
    "        plt.ylabel(ylabel)\n",
    "    \n",
    "    if stats is True:\n",
    "        rmse = np.sqrt(((y - x) ** 2).mean())\n",
    "        slope, intercept, r_value, p_value, std_err = sp.stats.linregress(x, y)\n",
    "        r2 = r_value ** 2\n",
    "        slope = \"{:.2f}\".format(slope)\n",
    "        intercept1 = \"{:.2f}\".format(intercept)\n",
    "        intercept2 = \"{:.2f}\".format(-intercept)\n",
    "        r2 = \"{:.2f}\".format(r2)\n",
    "        \n",
    "        if intercept < 0:\n",
    "            plt.text(0.1, 14, r'$y=%s*x-%s$'%(slope,intercept2), fontsize=10)\n",
    "        else:\n",
    "            plt.text(0.1, 14, r'$y=%s*x+%s$'%(slope,intercept1), fontsize=10)\n",
    "        \n",
    "        plt.text(0.1, 11, r'$R^2=%s$'%(r2), fontsize=10)\n",
    "        \n",
    "        if p_value < 0.05:\n",
    "            plt.text(0.1, 8, r'$p<0.05$', fontsize=10)\n",
    "        else:\n",
    "            plt.text(0.1, 8, r'$p>=0.05$', fontsize=10)\n",
    "                \n",
    "\n",
    "import numpy as np \n",
    "import matplotlib.pyplot as plt\n",
    "import scipy as sp\n",
    "import random\n",
    "\n",
    "#create data\n",
    "random.seed()\n",
    "x = np.random.random(100)*10\n",
    "y = x * 2 - np.random.random(100)*20\n",
    "myplotxy(x,y, True, True, True, \"x\", \"y\")\n"
   ]
  },
  {
   "cell_type": "code",
   "execution_count": null,
   "id": "9c72a7b9",
   "metadata": {},
   "outputs": [],
   "source": []
  }
 ],
 "metadata": {
  "kernelspec": {
   "display_name": "Python 3 (ipykernel)",
   "language": "python",
   "name": "python3"
  },
  "language_info": {
   "codemirror_mode": {
    "name": "ipython",
    "version": 3
   },
   "file_extension": ".py",
   "mimetype": "text/x-python",
   "name": "python",
   "nbconvert_exporter": "python",
   "pygments_lexer": "ipython3",
   "version": "3.9.7"
  }
 },
 "nbformat": 4,
 "nbformat_minor": 5
}
