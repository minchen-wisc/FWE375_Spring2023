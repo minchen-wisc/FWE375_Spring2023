{
 "cells": [
  {
   "cell_type": "code",
   "execution_count": 1,
   "id": "b5bdd1bd",
   "metadata": {},
   "outputs": [
    {
     "data": {
      "image/png": "[encoded data removed]",
      "text/plain": [
       "<Figure size 432x288 with 1 Axes>"
      ]
     },
     "metadata": {
      "needs_background": "light"
     },
     "output_type": "display_data"
    }
   ],
   "source": [
    "import numpy as np\n",
    "import matplotlib.pyplot as plt\n",
    "\n",
    "# define the x values for the heart shape\n",
    "x = np.linspace(-1, 1, 1000)\n",
    "\n",
    "# define the y values for the heart shape using a math function\n",
    "y = np.sqrt(1 - x**2) + np.power(np.abs(x), 0.3) * np.sin(5 * np.pi * x)\n",
    "\n",
    "# plot the heart shape in red\n",
    "plt.plot(x, y, 'r')\n",
    "\n",
    "# set the axis limits and hide the axes\n",
    "plt.axis('off')\n",
    "plt.xlim(-1.2, 1.2)\n",
    "plt.ylim(-0.2, 1.4)\n",
    "\n",
    "# display the heart shape\n",
    "plt.show()"
   ]
  },
  {
   "cell_type": "code",
   "execution_count": 5,
   "id": "9fa48353",
   "metadata": {},
   "outputs": [
    {
     "ename": "KeyboardInterrupt",
     "evalue": "",
     "output_type": "error",
     "traceback": [
      "\u001b[0;31m---------------------------------------------------------------------------\u001b[0m",
      "\u001b[0;31mKeyboardInterrupt\u001b[0m                         Traceback (most recent call last)",
      "\u001b[0;32m/var/folders/cq/d8h3wnqx5yd2tjl34nkmynr80000gn/T/ipykernel_55368/2008821494.py\u001b[0m in \u001b[0;36m<module>\u001b[0;34m\u001b[0m\n\u001b[1;32m     20\u001b[0m \u001b[0;34m\u001b[0m\u001b[0m\n\u001b[1;32m     21\u001b[0m \u001b[0;31m# Obtain value to at every point in mesh\u001b[0m\u001b[0;34m\u001b[0m\u001b[0;34m\u001b[0m\u001b[0m\n\u001b[0;32m---> 22\u001b[0;31m \u001b[0mvol\u001b[0m \u001b[0;34m=\u001b[0m \u001b[0mf_heart\u001b[0m\u001b[0;34m(\u001b[0m\u001b[0mX\u001b[0m\u001b[0;34m,\u001b[0m\u001b[0mY\u001b[0m\u001b[0;34m,\u001b[0m\u001b[0mZ\u001b[0m\u001b[0;34m)\u001b[0m\u001b[0;34m\u001b[0m\u001b[0;34m\u001b[0m\u001b[0m\n\u001b[0m\u001b[1;32m     23\u001b[0m \u001b[0;34m\u001b[0m\u001b[0m\n\u001b[1;32m     24\u001b[0m \u001b[0;31m# Extract a 2D surface mesh from a 3D volume (F=0)\u001b[0m\u001b[0;34m\u001b[0m\u001b[0;34m\u001b[0m\u001b[0m\n",
      "\u001b[0;32m/var/folders/cq/d8h3wnqx5yd2tjl34nkmynr80000gn/T/ipykernel_55368/2008821494.py\u001b[0m in \u001b[0;36mf_heart\u001b[0;34m(x, y, z)\u001b[0m\n\u001b[1;32m     15\u001b[0m \u001b[0;31m# Create cardioid function\u001b[0m\u001b[0;34m\u001b[0m\u001b[0;34m\u001b[0m\u001b[0m\n\u001b[1;32m     16\u001b[0m \u001b[0;32mdef\u001b[0m \u001b[0mf_heart\u001b[0m\u001b[0;34m(\u001b[0m\u001b[0mx\u001b[0m\u001b[0;34m,\u001b[0m\u001b[0my\u001b[0m\u001b[0;34m,\u001b[0m\u001b[0mz\u001b[0m\u001b[0;34m)\u001b[0m\u001b[0;34m:\u001b[0m\u001b[0;34m\u001b[0m\u001b[0;34m\u001b[0m\u001b[0m\n\u001b[0;32m---> 17\u001b[0;31m     F = 320 * ((-x**2 * z**3 -9*y**2 * z**3/80) +\n\u001b[0m\u001b[1;32m     18\u001b[0m                (x**2 + 9*y**2/4 + z**2-1)**3)\n\u001b[1;32m     19\u001b[0m     \u001b[0;32mreturn\u001b[0m \u001b[0mF\u001b[0m\u001b[0;34m\u001b[0m\u001b[0;34m\u001b[0m\u001b[0m\n",
      "\u001b[0;31mKeyboardInterrupt\u001b[0m: "
     ]
    }
   ],
   "source": [
    "from mpl_toolkits.mplot3d import Axes3D\n",
    "from matplotlib import pyplot as plt\n",
    "import numpy as np\n",
    "from skimage import measure\n",
    "\n",
    "\n",
    "# Set up mesh\n",
    "n = 1000 \n",
    "\n",
    "x = np.linspace(-3,3,n)\n",
    "y = np.linspace(-3,3,n)\n",
    "z = np.linspace(-3,3,n)\n",
    "X, Y, Z =  np.meshgrid(x, y, z)\n",
    "\n",
    "# Create cardioid function \n",
    "def f_heart(x,y,z):\n",
    "    F = 320 * ((-x**2 * z**3 -9*y**2 * z**3/80) +\n",
    "               (x**2 + 9*y**2/4 + z**2-1)**3)\n",
    "    return F\n",
    "\n",
    "# Obtain value to at every point in mesh\n",
    "vol = f_heart(X,Y,Z) \n",
    "\n",
    "# Extract a 2D surface mesh from a 3D volume (F=0)\n",
    "verts, faces, normals, values = measure.marching_cubes_lewiner(vol, 0,  spacing=(0.1, 0.1, 0.1))\n",
    "\n",
    "\n",
    "# Create a 3D figure\n",
    "fig = plt.figure(figsize=(12,8))\n",
    "ax = fig.add_subplot(111, projection='3d')\n",
    "\n",
    "# Plot the surface\n",
    "ax.plot_trisurf(verts[:, 0], verts[:,1], faces, verts[:, 2], lw=1)\n",
    "\n",
    "# Change the angle of view and title\n",
    "ax.view_init(15, -15)\n",
    "\n",
    "# ax.set_title(u\"Made with ❤ (and Python)\", fontsize=15) # if you have Python 3\n",
    "ax.set_title(\"Made with <3 (and Python)\", fontsize=15)\n",
    "\n",
    "# Show me some love ^^\n",
    "plt.show()"
   ]
  }
 ],
 "metadata": {
  "kernelspec": {
   "display_name": "Python 3 (ipykernel)",
   "language": "python",
   "name": "python3"
  },
  "language_info": {
   "codemirror_mode": {
    "name": "ipython",
    "version": 3
   },
   "file_extension": ".py",
   "mimetype": "text/x-python",
   "name": "python",
   "nbconvert_exporter": "python",
   "pygments_lexer": "ipython3",
   "version": "3.9.7"
  }
 },
 "nbformat": 4,
 "nbformat_minor": 5
}
