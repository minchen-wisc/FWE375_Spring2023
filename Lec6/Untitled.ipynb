{
 "cells": [
  {
   "cell_type": "code",
   "execution_count": 3,
   "id": "512c5521",
   "metadata": {},
   "outputs": [
    {
     "name": "stdout",
     "output_type": "stream",
     "text": [
      "2.0\n"
     ]
    }
   ],
   "source": [
    "import numpy as np\n",
    "\n",
    "print(np.sqrt(4))"
   ]
  },
  {
   "cell_type": "code",
   "execution_count": null,
   "id": "0b093987",
   "metadata": {},
   "outputs": [],
   "source": []
  },
  {
   "cell_type": "code",
   "execution_count": 4,
   "id": "1772084c",
   "metadata": {},
   "outputs": [
    {
     "name": "stdout",
     "output_type": "stream",
     "text": [
      "[1.00000000e+00 2.00000000e+00 3.00000000e+00 4.54343500e+01\n",
      " 3.23245435e+04]\n",
      "<class 'numpy.ndarray'>\n"
     ]
    }
   ],
   "source": [
    "A = np.array([1, 2, 3, 45.43435, 32324.54353])\n",
    "print(A)\n",
    "print(type(A))"
   ]
  },
  {
   "cell_type": "code",
   "execution_count": 18,
   "id": "0a95d827",
   "metadata": {},
   "outputs": [
    {
     "name": "stdout",
     "output_type": "stream",
     "text": [
      "[0.  0.5 1.  1.5 2.  2.5 3.  3.5 4.  4.5]\n",
      "<class 'numpy.ndarray'>\n",
      "[0. 2. 4. 6. 8.]\n"
     ]
    }
   ],
   "source": [
    "A = np.arange(0, 5, 0.5, dtype = float)\n",
    "print(A)\n",
    "print(type(A))\n",
    "\n",
    "A = np.linspace(0, 10, 5, endpoint = False)\n",
    "print(A)"
   ]
  },
  {
   "cell_type": "code",
   "execution_count": 29,
   "id": "e2b7105a",
   "metadata": {},
   "outputs": [
    {
     "name": "stdout",
     "output_type": "stream",
     "text": [
      "[5. 5. 5. 5. 5. 5. 5. 5. 5. 5.]\n",
      "[5. 5. 5. 5. 5. 5. 5. 5. 5. 5.]\n",
      "[nan nan nan nan nan nan nan nan nan nan]\n",
      "[5. 5.]\n"
     ]
    }
   ],
   "source": [
    "A = np.zeros(10) + 5\n",
    "print(A)\n",
    "\n",
    "A = np.ones(10) * 5\n",
    "print(A)\n",
    "\n",
    "B = np.empty(10)\n",
    "B[:] = np.nan\n",
    "print(B)\n",
    "\n",
    "print(A[1:3])"
   ]
  },
  {
   "cell_type": "code",
   "execution_count": 41,
   "id": "36966af5",
   "metadata": {},
   "outputs": [
    {
     "name": "stdout",
     "output_type": "stream",
     "text": [
      "[[ 1.     2.     3.   ]\n",
      " [ 4.     5.     6.   ]\n",
      " [   nan 34.454 34.   ]]\n",
      "3 3\n",
      "11.181750000000001\n",
      "89.45400000000001\n",
      "34.454\n",
      "4.5\n"
     ]
    }
   ],
   "source": [
    "A = np.array([[1, 2, 3],[4, 5, 6],[np.nan,34.454,34]])\n",
    "print(A)\n",
    "\n",
    "nrow, ncol = A.shape\n",
    "print(nrow,ncol)\n",
    "\n",
    "print(np.nanmean(A))\n",
    "print(np.nansum(A))\n",
    "print(np.nanmax(A))\n",
    "print(np.nanmedian(A))"
   ]
  },
  {
   "cell_type": "code",
   "execution_count": 44,
   "id": "3f386938",
   "metadata": {},
   "outputs": [
    {
     "name": "stdout",
     "output_type": "stream",
     "text": [
      "[[ 0.5    1.     1.5  ]\n",
      " [ 2.     2.5    3.   ]\n",
      " [   nan 17.227 17.   ]]\n"
     ]
    }
   ],
   "source": [
    "np.nanmean(A[:,1])\n",
    "\n",
    "print(A/2)"
   ]
  },
  {
   "cell_type": "code",
   "execution_count": 47,
   "id": "b2070e62",
   "metadata": {},
   "outputs": [
    {
     "data": {
      "text/plain": [
       "[<matplotlib.lines.Line2D at 0x7fde20297cd0>]"
      ]
     },
     "execution_count": 47,
     "metadata": {},
     "output_type": "execute_result"
    },
    {
     "data": {
      "image/png": "[encoded data removed]",
      "text/plain": [
       "<Figure size 432x288 with 1 Axes>"
      ]
     },
     "metadata": {
      "needs_background": "light"
     },
     "output_type": "display_data"
    }
   ],
   "source": [
    "fname = \"MaunaLoaCO2_monthly.txt\"\n",
    "\n",
    "A = np.loadtxt(fname)\n",
    "\n",
    "import matplotlib.pyplot as plt\n",
    "plt.plot(A[:,2],A[:,3],'o')\n",
    "\n"
   ]
  },
  {
   "cell_type": "code",
   "execution_count": 49,
   "id": "d057cd17",
   "metadata": {},
   "outputs": [
    {
     "data": {
      "text/plain": [
       "[<matplotlib.lines.Line2D at 0x7fddf012b670>]"
      ]
     },
     "execution_count": 49,
     "metadata": {},
     "output_type": "execute_result"
    },
    {
     "data": {
      "image/png": "[encoded data removed]",
      "text/plain": [
       "<Figure size 432x288 with 1 Axes>"
      ]
     },
     "metadata": {
      "needs_background": "light"
     },
     "output_type": "display_data"
    }
   ],
   "source": [
    "B = A[A[:,2]>2015,:]\n",
    "plt.plot(B[:,2],B[:,3],'-o')"
   ]
  },
  {
   "cell_type": "code",
   "execution_count": 53,
   "id": "605189d3",
   "metadata": {},
   "outputs": [
    {
     "name": "stdout",
     "output_type": "stream",
     "text": [
      "(720, 1440)\n"
     ]
    },
    {
     "data": {
      "text/plain": [
       "<AxesSubplot:>"
      ]
     },
     "execution_count": 53,
     "metadata": {},
     "output_type": "execute_result"
    },
    {
     "data": {
      "image/png": "[encoded data removed]",
      "text/plain": [
       "<Figure size 432x288 with 2 Axes>"
      ]
     },
     "metadata": {
      "needs_background": "light"
     },
     "output_type": "display_data"
    }
   ],
   "source": [
    "import numpy as np\n",
    "\n",
    "fname = \"globalelev.txt\"\n",
    "elev = np.loadtxt(fname)\n",
    "print(elev.shape)\n",
    "\n",
    "import seaborn as sns\n",
    "sns.heatmap(elev)"
   ]
  },
  {
   "cell_type": "code",
   "execution_count": 59,
   "id": "eb6f904b",
   "metadata": {},
   "outputs": [
    {
     "name": "stdout",
     "output_type": "stream",
     "text": [
      "(720, 1440) (36, 72)\n"
     ]
    },
    {
     "data": {
      "text/plain": [
       "<AxesSubplot:>"
      ]
     },
     "execution_count": 59,
     "metadata": {},
     "output_type": "execute_result"
    },
    {
     "data": {
      "image/png": "[encoded data removed]",
      "text/plain": [
       "<Figure size 432x288 with 2 Axes>"
      ]
     },
     "metadata": {
      "needs_background": "light"
     },
     "output_type": "display_data"
    }
   ],
   "source": [
    "M = 20\n",
    "N = 20\n",
    "nrow, ncol = elev.shape\n",
    "newelev = np.empty([int(nrow/M), int(ncol/N)])\n",
    "print(elev.shape, newelev.shape)\n",
    "\n",
    "for i in range(0, nrow, M):\n",
    "    for j in range(0, ncol, N):\n",
    "        r1 = i\n",
    "        r2 = i+M\n",
    "        c1 = j\n",
    "        c2 = j+N\n",
    "        arr = elev[r1:r2,c1:c2]\n",
    "        newelev[int(i/M),int(j/N)] = np.mean(arr)\n",
    "\n",
    "import seaborn as sns\n",
    "sns.heatmap(newelev)"
   ]
  },
  {
   "cell_type": "code",
   "execution_count": 6,
   "id": "cbeec385",
   "metadata": {},
   "outputs": [
    {
     "data": {
      "text/html": [
       "<div>\n",
       "<style scoped>\n",
       "    .dataframe tbody tr th:only-of-type {\n",
       "        vertical-align: middle;\n",
       "    }\n",
       "\n",
       "    .dataframe tbody tr th {\n",
       "        vertical-align: top;\n",
       "    }\n",
       "\n",
       "    .dataframe thead th {\n",
       "        text-align: right;\n",
       "    }\n",
       "</style>\n",
       "<table border=\"1\" class=\"dataframe\">\n",
       "  <thead>\n",
       "    <tr style=\"text-align: right;\">\n",
       "      <th></th>\n",
       "      <th>Year</th>\n",
       "      <th>annual_average</th>\n",
       "      <th>deseasonalized_annual_average</th>\n",
       "      <th>std_of_months</th>\n",
       "    </tr>\n",
       "  </thead>\n",
       "  <tbody>\n",
       "    <tr>\n",
       "      <th>0</th>\n",
       "      <td>1974</td>\n",
       "      <td>329.763750</td>\n",
       "      <td>330.346250</td>\n",
       "      <td>2.061455</td>\n",
       "    </tr>\n",
       "    <tr>\n",
       "      <th>1</th>\n",
       "      <td>1975</td>\n",
       "      <td>331.160909</td>\n",
       "      <td>331.072727</td>\n",
       "      <td>1.853294</td>\n",
       "    </tr>\n",
       "    <tr>\n",
       "      <th>2</th>\n",
       "      <td>1976</td>\n",
       "      <td>332.026667</td>\n",
       "      <td>332.028333</td>\n",
       "      <td>1.996820</td>\n",
       "    </tr>\n",
       "    <tr>\n",
       "      <th>3</th>\n",
       "      <td>1977</td>\n",
       "      <td>333.843333</td>\n",
       "      <td>333.841667</td>\n",
       "      <td>1.849637</td>\n",
       "    </tr>\n",
       "    <tr>\n",
       "      <th>4</th>\n",
       "      <td>1978</td>\n",
       "      <td>335.415000</td>\n",
       "      <td>335.413333</td>\n",
       "      <td>1.910081</td>\n",
       "    </tr>\n",
       "    <tr>\n",
       "      <th>5</th>\n",
       "      <td>1979</td>\n",
       "      <td>336.835833</td>\n",
       "      <td>336.835833</td>\n",
       "      <td>1.759405</td>\n",
       "    </tr>\n",
       "    <tr>\n",
       "      <th>6</th>\n",
       "      <td>1980</td>\n",
       "      <td>338.762500</td>\n",
       "      <td>338.765000</td>\n",
       "      <td>1.791606</td>\n",
       "    </tr>\n",
       "    <tr>\n",
       "      <th>7</th>\n",
       "      <td>1981</td>\n",
       "      <td>340.119167</td>\n",
       "      <td>340.120000</td>\n",
       "      <td>2.016331</td>\n",
       "    </tr>\n",
       "    <tr>\n",
       "      <th>8</th>\n",
       "      <td>1982</td>\n",
       "      <td>341.479167</td>\n",
       "      <td>341.476667</td>\n",
       "      <td>2.059796</td>\n",
       "    </tr>\n",
       "    <tr>\n",
       "      <th>9</th>\n",
       "      <td>1983</td>\n",
       "      <td>343.152500</td>\n",
       "      <td>343.152500</td>\n",
       "      <td>1.853668</td>\n",
       "    </tr>\n",
       "    <tr>\n",
       "      <th>10</th>\n",
       "      <td>1984</td>\n",
       "      <td>344.639091</td>\n",
       "      <td>344.874545</td>\n",
       "      <td>1.872142</td>\n",
       "    </tr>\n",
       "    <tr>\n",
       "      <th>11</th>\n",
       "      <td>1985</td>\n",
       "      <td>346.351667</td>\n",
       "      <td>346.350833</td>\n",
       "      <td>1.911966</td>\n",
       "    </tr>\n",
       "    <tr>\n",
       "      <th>12</th>\n",
       "      <td>1986</td>\n",
       "      <td>347.608333</td>\n",
       "      <td>347.608333</td>\n",
       "      <td>1.756264</td>\n",
       "    </tr>\n",
       "    <tr>\n",
       "      <th>13</th>\n",
       "      <td>1987</td>\n",
       "      <td>349.312500</td>\n",
       "      <td>349.313333</td>\n",
       "      <td>1.723780</td>\n",
       "    </tr>\n",
       "    <tr>\n",
       "      <th>14</th>\n",
       "      <td>1988</td>\n",
       "      <td>351.690833</td>\n",
       "      <td>351.690833</td>\n",
       "      <td>1.705044</td>\n",
       "    </tr>\n",
       "    <tr>\n",
       "      <th>15</th>\n",
       "      <td>1989</td>\n",
       "      <td>353.205000</td>\n",
       "      <td>353.205000</td>\n",
       "      <td>1.894336</td>\n",
       "    </tr>\n",
       "    <tr>\n",
       "      <th>16</th>\n",
       "      <td>1990</td>\n",
       "      <td>354.453333</td>\n",
       "      <td>354.451667</td>\n",
       "      <td>1.811815</td>\n",
       "    </tr>\n",
       "    <tr>\n",
       "      <th>17</th>\n",
       "      <td>1991</td>\n",
       "      <td>355.704167</td>\n",
       "      <td>355.703333</td>\n",
       "      <td>2.243552</td>\n",
       "    </tr>\n",
       "    <tr>\n",
       "      <th>18</th>\n",
       "      <td>1992</td>\n",
       "      <td>356.544167</td>\n",
       "      <td>356.545833</td>\n",
       "      <td>2.206326</td>\n",
       "    </tr>\n",
       "    <tr>\n",
       "      <th>19</th>\n",
       "      <td>1993</td>\n",
       "      <td>357.215833</td>\n",
       "      <td>357.214167</td>\n",
       "      <td>1.947021</td>\n",
       "    </tr>\n",
       "    <tr>\n",
       "      <th>20</th>\n",
       "      <td>1994</td>\n",
       "      <td>358.959167</td>\n",
       "      <td>358.960000</td>\n",
       "      <td>1.835059</td>\n",
       "    </tr>\n",
       "    <tr>\n",
       "      <th>21</th>\n",
       "      <td>1995</td>\n",
       "      <td>360.968333</td>\n",
       "      <td>360.966667</td>\n",
       "      <td>1.870498</td>\n",
       "    </tr>\n",
       "    <tr>\n",
       "      <th>22</th>\n",
       "      <td>1996</td>\n",
       "      <td>362.743333</td>\n",
       "      <td>362.743333</td>\n",
       "      <td>1.877198</td>\n",
       "    </tr>\n",
       "    <tr>\n",
       "      <th>23</th>\n",
       "      <td>1997</td>\n",
       "      <td>363.877500</td>\n",
       "      <td>363.876667</td>\n",
       "      <td>1.923067</td>\n",
       "    </tr>\n",
       "    <tr>\n",
       "      <th>24</th>\n",
       "      <td>1998</td>\n",
       "      <td>366.840000</td>\n",
       "      <td>366.839167</td>\n",
       "      <td>1.714293</td>\n",
       "    </tr>\n",
       "    <tr>\n",
       "      <th>25</th>\n",
       "      <td>1999</td>\n",
       "      <td>368.540000</td>\n",
       "      <td>368.540833</td>\n",
       "      <td>1.991783</td>\n",
       "    </tr>\n",
       "    <tr>\n",
       "      <th>26</th>\n",
       "      <td>2000</td>\n",
       "      <td>369.706667</td>\n",
       "      <td>369.707500</td>\n",
       "      <td>1.623255</td>\n",
       "    </tr>\n",
       "    <tr>\n",
       "      <th>27</th>\n",
       "      <td>2001</td>\n",
       "      <td>371.319167</td>\n",
       "      <td>371.318333</td>\n",
       "      <td>1.813149</td>\n",
       "    </tr>\n",
       "    <tr>\n",
       "      <th>28</th>\n",
       "      <td>2002</td>\n",
       "      <td>373.452500</td>\n",
       "      <td>373.452500</td>\n",
       "      <td>1.661526</td>\n",
       "    </tr>\n",
       "    <tr>\n",
       "      <th>29</th>\n",
       "      <td>2003</td>\n",
       "      <td>375.983333</td>\n",
       "      <td>375.983333</td>\n",
       "      <td>1.762467</td>\n",
       "    </tr>\n",
       "    <tr>\n",
       "      <th>30</th>\n",
       "      <td>2004</td>\n",
       "      <td>377.698333</td>\n",
       "      <td>377.697500</td>\n",
       "      <td>2.020230</td>\n",
       "    </tr>\n",
       "    <tr>\n",
       "      <th>31</th>\n",
       "      <td>2005</td>\n",
       "      <td>379.983333</td>\n",
       "      <td>379.982500</td>\n",
       "      <td>1.903284</td>\n",
       "    </tr>\n",
       "    <tr>\n",
       "      <th>32</th>\n",
       "      <td>2006</td>\n",
       "      <td>382.090833</td>\n",
       "      <td>382.089167</td>\n",
       "      <td>1.940766</td>\n",
       "    </tr>\n",
       "    <tr>\n",
       "      <th>33</th>\n",
       "      <td>2007</td>\n",
       "      <td>384.025000</td>\n",
       "      <td>384.024167</td>\n",
       "      <td>1.875204</td>\n",
       "    </tr>\n",
       "    <tr>\n",
       "      <th>34</th>\n",
       "      <td>2008</td>\n",
       "      <td>385.830833</td>\n",
       "      <td>385.830000</td>\n",
       "      <td>1.670910</td>\n",
       "    </tr>\n",
       "    <tr>\n",
       "      <th>35</th>\n",
       "      <td>2009</td>\n",
       "      <td>387.643333</td>\n",
       "      <td>387.643333</td>\n",
       "      <td>1.796749</td>\n",
       "    </tr>\n",
       "    <tr>\n",
       "      <th>36</th>\n",
       "      <td>2010</td>\n",
       "      <td>390.101667</td>\n",
       "      <td>390.101667</td>\n",
       "      <td>1.940983</td>\n",
       "    </tr>\n",
       "    <tr>\n",
       "      <th>37</th>\n",
       "      <td>2011</td>\n",
       "      <td>391.850833</td>\n",
       "      <td>391.850833</td>\n",
       "      <td>1.663968</td>\n",
       "    </tr>\n",
       "    <tr>\n",
       "      <th>38</th>\n",
       "      <td>2012</td>\n",
       "      <td>394.055833</td>\n",
       "      <td>394.055833</td>\n",
       "      <td>1.746131</td>\n",
       "    </tr>\n",
       "    <tr>\n",
       "      <th>39</th>\n",
       "      <td>2013</td>\n",
       "      <td>396.737500</td>\n",
       "      <td>396.738333</td>\n",
       "      <td>1.872948</td>\n",
       "    </tr>\n",
       "    <tr>\n",
       "      <th>40</th>\n",
       "      <td>2014</td>\n",
       "      <td>398.870833</td>\n",
       "      <td>398.870000</td>\n",
       "      <td>1.974303</td>\n",
       "    </tr>\n",
       "    <tr>\n",
       "      <th>41</th>\n",
       "      <td>2015</td>\n",
       "      <td>401.012500</td>\n",
       "      <td>401.012500</td>\n",
       "      <td>1.884127</td>\n",
       "    </tr>\n",
       "    <tr>\n",
       "      <th>42</th>\n",
       "      <td>2016</td>\n",
       "      <td>404.412500</td>\n",
       "      <td>404.414167</td>\n",
       "      <td>2.114687</td>\n",
       "    </tr>\n",
       "    <tr>\n",
       "      <th>43</th>\n",
       "      <td>2017</td>\n",
       "      <td>406.757500</td>\n",
       "      <td>406.757500</td>\n",
       "      <td>1.944480</td>\n",
       "    </tr>\n",
       "    <tr>\n",
       "      <th>44</th>\n",
       "      <td>2018</td>\n",
       "      <td>408.715000</td>\n",
       "      <td>408.715000</td>\n",
       "      <td>1.711610</td>\n",
       "    </tr>\n",
       "    <tr>\n",
       "      <th>45</th>\n",
       "      <td>2019</td>\n",
       "      <td>411.654167</td>\n",
       "      <td>411.655833</td>\n",
       "      <td>1.858330</td>\n",
       "    </tr>\n",
       "    <tr>\n",
       "      <th>46</th>\n",
       "      <td>2020</td>\n",
       "      <td>414.238333</td>\n",
       "      <td>414.235833</td>\n",
       "      <td>1.800869</td>\n",
       "    </tr>\n",
       "    <tr>\n",
       "      <th>47</th>\n",
       "      <td>2021</td>\n",
       "      <td>416.450833</td>\n",
       "      <td>416.450000</td>\n",
       "      <td>1.938816</td>\n",
       "    </tr>\n",
       "  </tbody>\n",
       "</table>\n",
       "</div>"
      ],
      "text/plain": [
       "    Year  annual_average  deseasonalized_annual_average  std_of_months\n",
       "0   1974      329.763750                     330.346250       2.061455\n",
       "1   1975      331.160909                     331.072727       1.853294\n",
       "2   1976      332.026667                     332.028333       1.996820\n",
       "3   1977      333.843333                     333.841667       1.849637\n",
       "4   1978      335.415000                     335.413333       1.910081\n",
       "5   1979      336.835833                     336.835833       1.759405\n",
       "6   1980      338.762500                     338.765000       1.791606\n",
       "7   1981      340.119167                     340.120000       2.016331\n",
       "8   1982      341.479167                     341.476667       2.059796\n",
       "9   1983      343.152500                     343.152500       1.853668\n",
       "10  1984      344.639091                     344.874545       1.872142\n",
       "11  1985      346.351667                     346.350833       1.911966\n",
       "12  1986      347.608333                     347.608333       1.756264\n",
       "13  1987      349.312500                     349.313333       1.723780\n",
       "14  1988      351.690833                     351.690833       1.705044\n",
       "15  1989      353.205000                     353.205000       1.894336\n",
       "16  1990      354.453333                     354.451667       1.811815\n",
       "17  1991      355.704167                     355.703333       2.243552\n",
       "18  1992      356.544167                     356.545833       2.206326\n",
       "19  1993      357.215833                     357.214167       1.947021\n",
       "20  1994      358.959167                     358.960000       1.835059\n",
       "21  1995      360.968333                     360.966667       1.870498\n",
       "22  1996      362.743333                     362.743333       1.877198\n",
       "23  1997      363.877500                     363.876667       1.923067\n",
       "24  1998      366.840000                     366.839167       1.714293\n",
       "25  1999      368.540000                     368.540833       1.991783\n",
       "26  2000      369.706667                     369.707500       1.623255\n",
       "27  2001      371.319167                     371.318333       1.813149\n",
       "28  2002      373.452500                     373.452500       1.661526\n",
       "29  2003      375.983333                     375.983333       1.762467\n",
       "30  2004      377.698333                     377.697500       2.020230\n",
       "31  2005      379.983333                     379.982500       1.903284\n",
       "32  2006      382.090833                     382.089167       1.940766\n",
       "33  2007      384.025000                     384.024167       1.875204\n",
       "34  2008      385.830833                     385.830000       1.670910\n",
       "35  2009      387.643333                     387.643333       1.796749\n",
       "36  2010      390.101667                     390.101667       1.940983\n",
       "37  2011      391.850833                     391.850833       1.663968\n",
       "38  2012      394.055833                     394.055833       1.746131\n",
       "39  2013      396.737500                     396.738333       1.872948\n",
       "40  2014      398.870833                     398.870000       1.974303\n",
       "41  2015      401.012500                     401.012500       1.884127\n",
       "42  2016      404.412500                     404.414167       2.114687\n",
       "43  2017      406.757500                     406.757500       1.944480\n",
       "44  2018      408.715000                     408.715000       1.711610\n",
       "45  2019      411.654167                     411.655833       1.858330\n",
       "46  2020      414.238333                     414.235833       1.800869\n",
       "47  2021      416.450833                     416.450000       1.938816"
      ]
     },
     "execution_count": 6,
     "metadata": {},
     "output_type": "execute_result"
    }
   ],
   "source": [
    "import pandas as pd\n",
    "import numpy as np\n",
    "\n",
    "fname = \"MaunaLoaCO2_monthly_sitename.csv\"\n",
    "DF = pd.read_csv(fname) #Changed the csv into a dataframe\n",
    "\n",
    "FDF = DF[(DF[\"numofdays\"] > 0) & (DF['Year'] != 1958) & (DF['Year'] != 2022) & (DF['stdofdays'] > 0)]\n",
    "FDF #Excluded data from 1958, 2022, and any negative values in the 'numofdays' and 'stdofdays'\n",
    "\n",
    "AA=[] \n",
    "years = []\n",
    "DAA = []\n",
    "STDM = []\n",
    "dict_data = {}\n",
    "\n",
    "\"\"\"\n",
    "I intialized a list for the years, annual averages, deseasonalized annual average, and std of months.\n",
    "I then filtered through the dataframe using a loop and added the data to their respective lists.\n",
    "Each list was then added to the same dict with the correct header that will represent that data in the new dataframe.\n",
    "\"\"\"\n",
    "\n",
    "for i in range(len(set(FDF['Year']))):\n",
    "    month_avg =FDF[['Monthly_average']][(FDF['Year']==1974+i)]\n",
    "    deseasonalied_avg = FDF[['deseasonalized']][(FDF['Year']==1974+i)]\n",
    "    STD_months = FDF[['Monthly_average']][(FDF['Year']==1974+i)]\n",
    "    year = set(FDF['Year'])\n",
    "    year = list(year)\n",
    "    AA.append(np.nanmean(month_avg))\n",
    "    years.append(year[i])\n",
    "    DAA.append(np.nanmean(deseasonalied_avg))\n",
    "    STDM.append(np.nanstd(STD_months))\n",
    "    dict_data['Year'] = years\n",
    "    dict_data['annual_average'] = AA\n",
    "    dict_data['deseasonalized_annual_average'] = DAA\n",
    "    dict_data['std_of_months'] = STDM\n",
    "\n",
    "df = pd.DataFrame.from_dict(dict_data)\n",
    "df"
   ]
  },
  {
   "cell_type": "code",
   "execution_count": null,
   "id": "ad4a93fe",
   "metadata": {},
   "outputs": [],
   "source": []
  }
 ],
 "metadata": {
  "kernelspec": {
   "display_name": "Python 3 (ipykernel)",
   "language": "python",
   "name": "python3"
  },
  "language_info": {
   "codemirror_mode": {
    "name": "ipython",
    "version": 3
   },
   "file_extension": ".py",
   "mimetype": "text/x-python",
   "name": "python",
   "nbconvert_exporter": "python",
   "pygments_lexer": "ipython3",
   "version": "3.9.7"
  }
 },
 "nbformat": 4,
 "nbformat_minor": 5
}
